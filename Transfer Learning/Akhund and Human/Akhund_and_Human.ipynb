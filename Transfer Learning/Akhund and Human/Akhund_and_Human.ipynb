{
  "nbformat": 4,
  "nbformat_minor": 0,
  "metadata": {
    "colab": {
      "provenance": [],
      "gpuType": "T4"
    },
    "kernelspec": {
      "name": "python3",
      "display_name": "Python 3"
    },
    "language_info": {
      "name": "python"
    },
    "accelerator": "GPU"
  },
  "cells": [
    {
      "cell_type": "code",
      "execution_count": 11,
      "metadata": {
        "id": "JtOYkD6mBc-L"
      },
      "outputs": [],
      "source": [
        "import tensorflow as tf\n",
        "import numpy as np\n",
        "import matplotlib.pyplot as plt\n",
        "from sklearn.metrics import confusion_matrix\n",
        "from tensorflow.keras.preprocessing.image import ImageDataGenerator"
      ]
    },
    {
      "cell_type": "code",
      "source": [
        "dataset_path = \"/content/drive/MyDrive/Akhund-and-Human\"\n",
        "\n",
        "image_data_generator = ImageDataGenerator(rescale=1./255,\n",
        "                                          validation_split=0.1,\n",
        "                                          brightness_range=(0.8, 1.2),\n",
        "                                          horizontal_flip=True\n",
        ")\n",
        "\n",
        "dataset_train = image_data_generator.flow_from_directory(dataset_path,\n",
        "                                                          target_size=(224, 224),\n",
        "                                                          batch_size=32,\n",
        "                                                          subset=\"training\",\n",
        "                                                          shuffle=True\n",
        ")\n",
        "\n",
        "\n",
        "daatset_validation = image_data_generator.flow_from_directory(dataset_path,\n",
        "                                                          target_size=(224, 224),\n",
        "                                                          batch_size=32,\n",
        "                                                          subset=\"validation\",\n",
        "                                                          shuffle=False\n",
        ")\n"
      ],
      "metadata": {
        "id": "muaxmN8_C0nw",
        "outputId": "e30b9e2c-5696-4f19-ffc3-c61d0c09fcd0",
        "colab": {
          "base_uri": "https://localhost:8080/"
        }
      },
      "execution_count": 24,
      "outputs": [
        {
          "output_type": "stream",
          "name": "stdout",
          "text": [
            "Found 421 images belonging to 2 classes.\n",
            "Found 45 images belonging to 2 classes.\n"
          ]
        }
      ]
    },
    {
      "cell_type": "code",
      "source": [
        "dataset_train.class_indices"
      ],
      "metadata": {
        "id": "Ysvw5CXvEToC",
        "outputId": "685d17bc-34f6-4f0c-a289-735d2b8d0252",
        "colab": {
          "base_uri": "https://localhost:8080/"
        }
      },
      "execution_count": 25,
      "outputs": [
        {
          "output_type": "execute_result",
          "data": {
            "text/plain": [
              "{'Akhund': 0, 'Human': 1}"
            ]
          },
          "metadata": {},
          "execution_count": 25
        }
      ]
    },
    {
      "cell_type": "code",
      "source": [
        "base_model = tf.keras.applications.MobileNetV2(input_shape=(224, 224, 3),\n",
        "                                                include_top=False,\n",
        "                                                weights='imagenet',\n",
        "                                                )"
      ],
      "metadata": {
        "id": "XNDHxbQXElOC"
      },
      "execution_count": 26,
      "outputs": []
    },
    {
      "cell_type": "code",
      "source": [
        "for layer in base_model.layers[:-4]:\n",
        "    layer.trainable = False"
      ],
      "metadata": {
        "id": "0X-m2Sv7EnVm"
      },
      "execution_count": 27,
      "outputs": []
    },
    {
      "cell_type": "code",
      "source": [
        "model = tf.keras.models.Sequential([\n",
        "    base_model,\n",
        "    tf.keras.layers.GlobalAveragePooling2D(),\n",
        "    tf.keras.layers.Dense(128, activation='relu'),\n",
        "    tf.keras.layers.Dropout(0.7),\n",
        "    tf.keras.layers.Dense(2, activation='softmax')\n",
        "])\n",
        "\n",
        "model.compile(optimizer=\"rmsprop\",loss=\"categorical_crossentropy\",metrics=[\"accuracy\"])"
      ],
      "metadata": {
        "id": "C8tBXVARE9DG"
      },
      "execution_count": 28,
      "outputs": []
    },
    {
      "cell_type": "code",
      "source": [
        "history = model.fit(dataset_train,\n",
        "                    epochs=10,\n",
        "                    validation_data=daatset_validation,\n",
        "                    )"
      ],
      "metadata": {
        "id": "xGl-UXfMFM1H",
        "outputId": "e5e347f9-1385-4269-ab38-6214812c55cf",
        "colab": {
          "base_uri": "https://localhost:8080/"
        }
      },
      "execution_count": 29,
      "outputs": [
        {
          "output_type": "stream",
          "name": "stdout",
          "text": [
            "Epoch 1/10\n",
            "\u001b[1m14/14\u001b[0m \u001b[32m━━━━━━━━━━━━━━━━━━━━\u001b[0m\u001b[37m\u001b[0m \u001b[1m21s\u001b[0m 921ms/step - accuracy: 0.7374 - loss: 0.8902 - val_accuracy: 0.7333 - val_loss: 1.5492\n",
            "Epoch 2/10\n",
            "\u001b[1m14/14\u001b[0m \u001b[32m━━━━━━━━━━━━━━━━━━━━\u001b[0m\u001b[37m\u001b[0m \u001b[1m5s\u001b[0m 382ms/step - accuracy: 0.9405 - loss: 0.1524 - val_accuracy: 0.8222 - val_loss: 1.2982\n",
            "Epoch 3/10\n",
            "\u001b[1m14/14\u001b[0m \u001b[32m━━━━━━━━━━━━━━━━━━━━\u001b[0m\u001b[37m\u001b[0m \u001b[1m5s\u001b[0m 329ms/step - accuracy: 0.9611 - loss: 0.0864 - val_accuracy: 0.7556 - val_loss: 1.9449\n",
            "Epoch 4/10\n",
            "\u001b[1m14/14\u001b[0m \u001b[32m━━━━━━━━━━━━━━━━━━━━\u001b[0m\u001b[37m\u001b[0m \u001b[1m5s\u001b[0m 357ms/step - accuracy: 0.9779 - loss: 0.0532 - val_accuracy: 0.7556 - val_loss: 2.1546\n",
            "Epoch 5/10\n",
            "\u001b[1m14/14\u001b[0m \u001b[32m━━━━━━━━━━━━━━━━━━━━\u001b[0m\u001b[37m\u001b[0m \u001b[1m5s\u001b[0m 393ms/step - accuracy: 0.9727 - loss: 0.0692 - val_accuracy: 0.8222 - val_loss: 1.3737\n",
            "Epoch 6/10\n",
            "\u001b[1m14/14\u001b[0m \u001b[32m━━━━━━━━━━━━━━━━━━━━\u001b[0m\u001b[37m\u001b[0m \u001b[1m5s\u001b[0m 337ms/step - accuracy: 0.9645 - loss: 0.1072 - val_accuracy: 0.8667 - val_loss: 1.6830\n",
            "Epoch 7/10\n",
            "\u001b[1m14/14\u001b[0m \u001b[32m━━━━━━━━━━━━━━━━━━━━\u001b[0m\u001b[37m\u001b[0m \u001b[1m5s\u001b[0m 387ms/step - accuracy: 0.9643 - loss: 0.0879 - val_accuracy: 0.8222 - val_loss: 2.3713\n",
            "Epoch 8/10\n",
            "\u001b[1m14/14\u001b[0m \u001b[32m━━━━━━━━━━━━━━━━━━━━\u001b[0m\u001b[37m\u001b[0m \u001b[1m5s\u001b[0m 317ms/step - accuracy: 0.9938 - loss: 0.0119 - val_accuracy: 0.7556 - val_loss: 3.1363\n",
            "Epoch 9/10\n",
            "\u001b[1m14/14\u001b[0m \u001b[32m━━━━━━━━━━━━━━━━━━━━\u001b[0m\u001b[37m\u001b[0m \u001b[1m5s\u001b[0m 323ms/step - accuracy: 0.9901 - loss: 0.0257 - val_accuracy: 0.8667 - val_loss: 1.8167\n",
            "Epoch 10/10\n",
            "\u001b[1m14/14\u001b[0m \u001b[32m━━━━━━━━━━━━━━━━━━━━\u001b[0m\u001b[37m\u001b[0m \u001b[1m5s\u001b[0m 391ms/step - accuracy: 0.9935 - loss: 0.0194 - val_accuracy: 0.8667 - val_loss: 2.6953\n"
          ]
        }
      ]
    },
    {
      "cell_type": "code",
      "source": [
        "model.save(\"my_model.h5\")"
      ],
      "metadata": {
        "id": "LEaop3YAJVCI",
        "outputId": "922e1fe1-c057-4aad-b783-97298b0f4cc1",
        "colab": {
          "base_uri": "https://localhost:8080/"
        }
      },
      "execution_count": 30,
      "outputs": [
        {
          "output_type": "stream",
          "name": "stderr",
          "text": [
            "WARNING:absl:You are saving your model as an HDF5 file via `model.save()` or `keras.saving.save_model(model)`. This file format is considered legacy. We recommend using instead the native Keras format, e.g. `model.save('my_model.keras')` or `keras.saving.save_model(model, 'my_model.keras')`. \n"
          ]
        }
      ]
    },
    {
      "cell_type": "code",
      "source": [
        "y_pred = model.predict(daatset_validation)\n",
        "y_pred = np.argmax(y_pred, axis=1)\n",
        "\n",
        "y_true = daatset_validation.classes\n",
        "\n",
        "cm = confusion_matrix(y_true, y_pred)\n",
        "cm"
      ],
      "metadata": {
        "id": "aHFN9wkSJbqs",
        "outputId": "7e2f441f-ec20-4096-a843-2e8441acbbb2",
        "colab": {
          "base_uri": "https://localhost:8080/"
        }
      },
      "execution_count": 34,
      "outputs": [
        {
          "output_type": "stream",
          "name": "stdout",
          "text": [
            "\u001b[1m2/2\u001b[0m \u001b[32m━━━━━━━━━━━━━━━━━━━━\u001b[0m\u001b[37m\u001b[0m \u001b[1m0s\u001b[0m 136ms/step\n"
          ]
        },
        {
          "output_type": "execute_result",
          "data": {
            "text/plain": [
              "array([[24,  0],\n",
              "       [ 7, 14]])"
            ]
          },
          "metadata": {},
          "execution_count": 34
        }
      ]
    },
    {
      "cell_type": "code",
      "source": [
        "y_pred = model.predict(daatset_validation)\n",
        "y_pred_classes = np.argmax(y_pred, axis=1)\n",
        "\n",
        "y_true = daatset_validation.classes\n",
        "\n",
        "cm = confusion_matrix(y_true, y_pred_classes)\n",
        "\n",
        "plt.figure(figsize=(12,6))\n",
        "plt.imshow(cm, interpolation='nearest', cmap='Reds')\n",
        "plt.title('Confusion Matrix Akhund and Human')\n",
        "plt.colorbar()\n",
        "\n",
        "thresh = cm.max() / 2.\n",
        "for i in range(cm.shape[0]):\n",
        "    for j in range(cm.shape[1]):\n",
        "        plt.text(j, i, format(cm[i, j], 'd'),\n",
        "                 horizontalalignment=\"center\",\n",
        "                 color=\"white\" if cm[i, j] > thresh else \"black\")\n",
        "\n",
        "plt.xlabel('Predicted Label')\n",
        "plt.ylabel('True Label')\n",
        "plt.xticks(np.arange(len(daatset_validation.class_indices)), list(daatset_validation.class_indices.keys()), rotation=90)\n",
        "plt.yticks(np.arange(len(daatset_validation.class_indices)), list(daatset_validation.class_indices.keys()))\n",
        "plt.tight_layout()\n",
        "plt.show()"
      ],
      "metadata": {
        "id": "1tgarmaDKE1P",
        "outputId": "7e73db43-10eb-4df7-e80f-1106b332cccf",
        "colab": {
          "base_uri": "https://localhost:8080/",
          "height": 624
        }
      },
      "execution_count": 44,
      "outputs": [
        {
          "output_type": "stream",
          "name": "stdout",
          "text": [
            "\u001b[1m2/2\u001b[0m \u001b[32m━━━━━━━━━━━━━━━━━━━━\u001b[0m\u001b[37m\u001b[0m \u001b[1m0s\u001b[0m 151ms/step\n"
          ]
        },
        {
          "output_type": "display_data",
          "data": {
            "text/plain": [
              "<Figure size 1200x600 with 2 Axes>"
            ],
            "image/png": "[encoded data removed]"
          },
          "metadata": {}
        }
      ]
    }
  ]
}