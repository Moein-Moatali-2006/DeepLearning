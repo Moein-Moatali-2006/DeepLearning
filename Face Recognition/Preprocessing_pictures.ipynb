{
  "cells": [
    {
      "cell_type": "code",
      "execution_count": null,
      "metadata": {
        "id": "7ouISSbRgoei"
      },
      "outputs": [],
      "source": [
        "!pip install deepface"
      ]
    },
    {
      "cell_type": "code",
      "execution_count": 7,
      "metadata": {
        "id": "w7GgP7jEhgBw"
      },
      "outputs": [],
      "source": [
        "import os\n",
        "import pandas as pd\n",
        "import numpy as np\n",
        "from deepface import DeepFace"
      ]
    },
    {
      "cell_type": "code",
      "execution_count": 52,
      "metadata": {
        "id": "nX2U0Y-4ieMw"
      },
      "outputs": [],
      "source": [
        "folder_path = \"drive/MyDrive/Faces/Behnam_Bani\"\n",
        "for index, filename in enumerate(os.listdir(folder_path)):\n",
        "    old_path = os.path.join(folder_path, filename)\n",
        "    new_name = f\"image_{index}.jpg\"\n",
        "    new_path = os.path.join(folder_path, new_name)\n",
        "    os.rename(old_path, new_path)\n",
        "\n",
        "\n",
        "images = [i for i in os.listdir(folder_path) if i.lower().endswith(\".jpg\")]\n",
        "\n",
        "data = []\n",
        "\n",
        "for image in images:\n",
        "    img_path = os.path.join(folder_path, image)\n",
        "    embedding_objs = DeepFace.represent(img_path=img_path, model_name=\"ArcFace\",enforce_detection=False)\n",
        "    data.append([embedding_objs,\"Behnam_Bani\"])\n",
        "\n",
        "\n",
        "df = pd.DataFrame(data,columns=[\"embedding\",\"label\"])\n",
        "df.to_csv(\"Behnam_Bani.csv\", index=False)\n"
      ]
    }
  ],
  "metadata": {
    "colab": {
      "provenance": []
    },
    "kernelspec": {
      "display_name": "Python 3",
      "name": "python3"
    },
    "language_info": {
      "name": "python"
    }
  },
  "nbformat": 4,
  "nbformat_minor": 0
}