{
 "cells": [
  {
   "cell_type": "code",
   "execution_count": 1,
   "metadata": {},
   "outputs": [],
   "source": [
    "import ast\n",
    "import numpy as np\n",
    "import pandas as pd"
   ]
  },
  {
   "cell_type": "code",
   "execution_count": 2,
   "metadata": {},
   "outputs": [
    {
     "data": {
      "text/html": [
       "<div>\n",
       "<style scoped>\n",
       "    .dataframe tbody tr th:only-of-type {\n",
       "        vertical-align: middle;\n",
       "    }\n",
       "\n",
       "    .dataframe tbody tr th {\n",
       "        vertical-align: top;\n",
       "    }\n",
       "\n",
       "    .dataframe thead th {\n",
       "        text-align: right;\n",
       "    }\n",
       "</style>\n",
       "<table border=\"1\" class=\"dataframe\">\n",
       "  <thead>\n",
       "    <tr style=\"text-align: right;\">\n",
       "      <th></th>\n",
       "      <th>embedding</th>\n",
       "      <th>label</th>\n",
       "    </tr>\n",
       "  </thead>\n",
       "  <tbody>\n",
       "    <tr>\n",
       "      <th>0</th>\n",
       "      <td>[{'embedding': [-0.08524297177791595, 0.113740...</td>\n",
       "      <td>Adel_FerdowsiPour</td>\n",
       "    </tr>\n",
       "    <tr>\n",
       "      <th>1</th>\n",
       "      <td>[{'embedding': [-0.02908509410917759, 0.066105...</td>\n",
       "      <td>Adel_FerdowsiPour</td>\n",
       "    </tr>\n",
       "    <tr>\n",
       "      <th>2</th>\n",
       "      <td>[{'embedding': [-0.03666095435619354, 0.025959...</td>\n",
       "      <td>Adel_FerdowsiPour</td>\n",
       "    </tr>\n",
       "    <tr>\n",
       "      <th>3</th>\n",
       "      <td>[{'embedding': [-0.09692816436290741, 0.230703...</td>\n",
       "      <td>Adel_FerdowsiPour</td>\n",
       "    </tr>\n",
       "    <tr>\n",
       "      <th>4</th>\n",
       "      <td>[{'embedding': [0.05834588408470154, 0.1091094...</td>\n",
       "      <td>Adel_FerdowsiPour</td>\n",
       "    </tr>\n",
       "  </tbody>\n",
       "</table>\n",
       "</div>"
      ],
      "text/plain": [
       "                                           embedding              label\n",
       "0  [{'embedding': [-0.08524297177791595, 0.113740...  Adel_FerdowsiPour\n",
       "1  [{'embedding': [-0.02908509410917759, 0.066105...  Adel_FerdowsiPour\n",
       "2  [{'embedding': [-0.03666095435619354, 0.025959...  Adel_FerdowsiPour\n",
       "3  [{'embedding': [-0.09692816436290741, 0.230703...  Adel_FerdowsiPour\n",
       "4  [{'embedding': [0.05834588408470154, 0.1091094...  Adel_FerdowsiPour"
      ]
     },
     "execution_count": 2,
     "metadata": {},
     "output_type": "execute_result"
    }
   ],
   "source": [
    "data = pd.read_csv(\"Dataset.csv\")\n",
    "data.head()"
   ]
  },
  {
   "cell_type": "code",
   "execution_count": 3,
   "metadata": {},
   "outputs": [],
   "source": [
    "embedding = []\n",
    "for i in data[\"embedding\"]:\n",
    "    converted = ast.literal_eval(i)\n",
    "    x = converted[0][\"embedding\"]\n",
    "    embedding.append(x)"
   ]
  },
  {
   "cell_type": "code",
   "execution_count": 4,
   "metadata": {},
   "outputs": [],
   "source": [
    "for i,emb in enumerate(embedding):\n",
    "    emb.append(data[\"label\"][i])"
   ]
  },
  {
   "cell_type": "code",
   "execution_count": 5,
   "metadata": {},
   "outputs": [
    {
     "name": "stdout",
     "output_type": "stream",
     "text": [
      "   Feature1  Feature2  Feature3  Feature4  Feature5  Feature6  Feature7  \\\n",
      "0 -0.085243  0.113741 -0.076008 -0.543246 -0.040613 -0.064269  0.120637   \n",
      "1 -0.029085  0.066105  0.039280 -0.106409 -0.002791 -0.078842  0.103119   \n",
      "2 -0.036661  0.025960  0.005296 -0.286603 -0.023073 -0.038663  0.030502   \n",
      "3 -0.096928  0.230704 -0.043179 -0.219089  0.068789 -0.020304  0.136390   \n",
      "4  0.058346  0.109109 -0.011447  0.010425 -0.119775 -0.101330 -0.025975   \n",
      "\n",
      "   Feature8  Feature9  Feature10  ...  Feature504  Feature505  Feature506  \\\n",
      "0  0.054244 -0.223260  -0.003807  ...    0.040574    0.170891    0.017064   \n",
      "1  0.072104 -0.113969  -0.038479  ...    0.228921    0.215228    0.010067   \n",
      "2 -0.049440  0.045224  -0.150188  ...    0.121677    0.097808   -0.048085   \n",
      "3  0.025754 -0.085352  -0.037839  ...    0.038548    0.331350   -0.086856   \n",
      "4  0.147936 -0.083549  -0.054536  ...    0.130704    0.195982    0.074712   \n",
      "\n",
      "   Feature507  Feature508  Feature509  Feature510  Feature511  Feature512  \\\n",
      "0    0.203531   -0.053761    0.197184   -0.023601   -0.032346   -0.044258   \n",
      "1   -0.000548   -0.128221    0.166132   -0.111272    0.169827    0.083473   \n",
      "2    0.008427   -0.011010    0.083467   -0.089839    0.272914    0.121511   \n",
      "3    0.023208   -0.066632    0.228283   -0.152493    0.013848    0.181227   \n",
      "4    0.156027   -0.137013    0.091660   -0.283446    0.203653    0.247721   \n",
      "\n",
      "               Label  \n",
      "0  Adel_FerdowsiPour  \n",
      "1  Adel_FerdowsiPour  \n",
      "2  Adel_FerdowsiPour  \n",
      "3  Adel_FerdowsiPour  \n",
      "4  Adel_FerdowsiPour  \n",
      "\n",
      "[5 rows x 513 columns]\n"
     ]
    }
   ],
   "source": [
    "\n",
    "columns = [f\"Feature{i}\" for i in range(1, 513)] + [\"Label\"]\n",
    "df = pd.DataFrame(embedding, columns=columns)\n",
    "df.to_csv(\"Final_Dataset.csv\", index=False)\n",
    "print(df.head()) "
   ]
  }
 ],
 "metadata": {
  "kernelspec": {
   "display_name": "Python 3",
   "language": "python",
   "name": "python3"
  },
  "language_info": {
   "codemirror_mode": {
    "name": "ipython",
    "version": 3
   },
   "file_extension": ".py",
   "mimetype": "text/x-python",
   "name": "python",
   "nbconvert_exporter": "python",
   "pygments_lexer": "ipython3",
   "version": "3.11.4"
  }
 },
 "nbformat": 4,
 "nbformat_minor": 2
}
