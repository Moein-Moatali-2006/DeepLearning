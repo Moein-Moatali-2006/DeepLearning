{
  "nbformat": 4,
  "nbformat_minor": 0,
  "metadata": {
    "colab": {
      "provenance": [],
      "gpuType": "T4"
    },
    "kernelspec": {
      "name": "python3",
      "display_name": "Python 3"
    },
    "language_info": {
      "name": "python"
    },
    "accelerator": "GPU"
  },
  "cells": [
    {
      "cell_type": "code",
      "execution_count": 38,
      "metadata": {
        "id": "YnJ9WOQonLxr"
      },
      "outputs": [],
      "source": [
        "import tensorflow as tf\n",
        "from tensorflow.keras.layers import Dense, Flatten, Conv2D"
      ]
    },
    {
      "cell_type": "code",
      "source": [
        "mnist = tf.keras.datasets.mnist\n",
        "\n",
        "(x_train, y_train), (x_test, y_test) = mnist.load_data()\n",
        "x_train = x_train / 255.0\n",
        "x_taet = x_test / 255.0\n",
        "\n",
        "x_train = x_train[..., tf.newaxis]\n",
        "x_test = x_test[..., tf.newaxis]"
      ],
      "metadata": {
        "id": "KdnGqHzWng_S"
      },
      "execution_count": 39,
      "outputs": []
    },
    {
      "cell_type": "code",
      "source": [
        "x_train[0].shape"
      ],
      "metadata": {
        "colab": {
          "base_uri": "https://localhost:8080/"
        },
        "id": "QzMd_c3_naXy",
        "outputId": "2e738aa2-6f06-411f-e369-5e00a3d74d86"
      },
      "execution_count": 40,
      "outputs": [
        {
          "output_type": "execute_result",
          "data": {
            "text/plain": [
              "(28, 28, 1)"
            ]
          },
          "metadata": {},
          "execution_count": 40
        }
      ]
    },
    {
      "cell_type": "code",
      "source": [
        "type(x_train[0][0,0,0])"
      ],
      "metadata": {
        "colab": {
          "base_uri": "https://localhost:8080/"
        },
        "id": "Brebz6AjovRM",
        "outputId": "6c9ac5c9-68d8-457e-e8ca-056e9489f817"
      },
      "execution_count": 41,
      "outputs": [
        {
          "output_type": "execute_result",
          "data": {
            "text/plain": [
              "numpy.float64"
            ]
          },
          "metadata": {},
          "execution_count": 41
        }
      ]
    },
    {
      "cell_type": "code",
      "source": [
        "train_daatset = tf.data.Dataset.from_tensor_slices((x_train,y_train)).shuffle(1000).batch(32)\n",
        "test_dataset = tf.data.Dataset.from_tensor_slices((x_test,y_test)).batch(32)"
      ],
      "metadata": {
        "id": "_jPlneEZpqwI"
      },
      "execution_count": 42,
      "outputs": []
    },
    {
      "cell_type": "code",
      "source": [
        "class MyModel(tf.keras.Model):\n",
        "    def __init__(self):\n",
        "        super().__init__()\n",
        "        self.conv1 = Conv2D(32, 3, activation=\"relu\")\n",
        "        self.flatten = Flatten()\n",
        "        self.d1 = Dense(128, activation=\"relu\")\n",
        "        self.d2 = Dense(10)\n",
        "\n",
        "\n",
        "    def call(self, x):\n",
        "        x = self.conv1(x)\n",
        "        x = self.flatten(x)\n",
        "        x = self.d1(x)\n",
        "        x = self.d2(x)\n",
        "        return x\n",
        "\n",
        "model = MyModel()"
      ],
      "metadata": {
        "id": "IOAPB6qFqSqC"
      },
      "execution_count": 43,
      "outputs": []
    },
    {
      "cell_type": "code",
      "source": [
        "loss_function = tf.keras.losses.SparseCategoricalCrossentropy(from_logits=True)\n",
        "optimizer = tf.keras.optimizers.Adam()"
      ],
      "metadata": {
        "id": "0lfIOMqgt5sV"
      },
      "execution_count": 44,
      "outputs": []
    },
    {
      "cell_type": "code",
      "source": [
        "train_loss = tf.keras.metrics.Mean()\n",
        "test_loss = tf.keras.metrics.Mean()\n",
        "\n",
        "train_accuracy = tf.keras.metrics.SparseCategoricalAccuracy()\n",
        "test_accuracy = tf.keras.metrics.SparseCategoricalAccuracy()"
      ],
      "metadata": {
        "id": "Ab1h3hEwyP2d"
      },
      "execution_count": 45,
      "outputs": []
    },
    {
      "cell_type": "code",
      "source": [
        "@tf.function\n",
        "def train(images, labels):\n",
        "    with tf.GradientTape() as tape:\n",
        "        pred = model(images)\n",
        "        loss = loss_function(labels, pred)\n",
        "    gradients = tape.gradient(loss, model.trainable_variables)\n",
        "    optimizer.apply_gradients(zip(gradients, model.trainable_variables))\n",
        "\n",
        "    train_loss(loss)\n",
        "    train_accuracy(labels, pred)"
      ],
      "metadata": {
        "id": "HRB9iAekHBgq"
      },
      "execution_count": 46,
      "outputs": []
    },
    {
      "cell_type": "code",
      "source": [
        "@tf.function\n",
        "def test(images, labels):\n",
        "    pred = model(images)\n",
        "    loss = loss_function(labels, pred)\n",
        "    test_loss(loss)\n",
        "    test_accuracy(labels, pred)"
      ],
      "metadata": {
        "id": "uuOgWqQoHcl7"
      },
      "execution_count": 47,
      "outputs": []
    },
    {
      "cell_type": "code",
      "source": [
        "epochs = 5\n",
        "\n",
        "for epoch in range(epochs):\n",
        "    train_loss.reset_state()\n",
        "    train_accuracy.reset_state()\n",
        "    test_loss.reset_state()\n",
        "    test_accuracy.reset_state()\n",
        "\n",
        "    #tarin\n",
        "    for images, labels in train_daatset:\n",
        "        train(images, labels)\n",
        "\n",
        "    #test\n",
        "    for images, labels in test_dataset:\n",
        "        test(images, labels)\n",
        "\n",
        "    print(\"epoch:\", epoch + 1,\n",
        "          f\"Train Loss:{train_loss.result()}\",\n",
        "          f\"Train Acc:{train_accuracy.result()}\",\n",
        "          f\"test Loss:{test_loss.result()}\",\n",
        "          f\"test Acc:{test_accuracy.result()}\")"
      ],
      "metadata": {
        "id": "NmO1XavOzEnL"
      },
      "execution_count": null,
      "outputs": []
    },
    {
      "cell_type": "code",
      "source": [
        "model.save(\"my_model\")"
      ],
      "metadata": {
        "id": "XAXpbgnJNhFJ"
      },
      "execution_count": null,
      "outputs": []
    },
    {
      "cell_type": "code",
      "source": [
        "model = tf.keras.models.load_model = \"my_model\""
      ],
      "metadata": {
        "id": "bEmOeSJLNkSf"
      },
      "execution_count": null,
      "outputs": []
    }
  ]
}