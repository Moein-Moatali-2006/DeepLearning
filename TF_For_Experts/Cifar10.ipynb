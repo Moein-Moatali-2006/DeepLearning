{
  "nbformat": 4,
  "nbformat_minor": 0,
  "metadata": {
    "colab": {
      "provenance": [],
      "gpuType": "T4"
    },
    "kernelspec": {
      "name": "python3",
      "display_name": "Python 3"
    },
    "language_info": {
      "name": "python"
    },
    "accelerator": "GPU"
  },
  "cells": [
    {
      "cell_type": "code",
      "execution_count": 65,
      "metadata": {
        "id": "Q41rC-HEjk9X"
      },
      "outputs": [],
      "source": [
        "import tensorflow as tf\n",
        "from tensorflow.keras.layers import Flatten, Conv2D, Dense, Dropout"
      ]
    },
    {
      "cell_type": "code",
      "source": [
        "cifar10 = tf.keras.datasets.cifar10\n",
        "(X_train,Y_train),(X_test,Y_test) = cifar10.load_data()"
      ],
      "metadata": {
        "id": "BkHH5eYtj274"
      },
      "execution_count": 66,
      "outputs": []
    },
    {
      "cell_type": "code",
      "source": [
        "X_train[0].shape"
      ],
      "metadata": {
        "colab": {
          "base_uri": "https://localhost:8080/"
        },
        "id": "52QLZ8Ijkbvk",
        "outputId": "2e801881-f2fb-4859-b0f4-ba888e4fcb05"
      },
      "execution_count": 67,
      "outputs": [
        {
          "output_type": "execute_result",
          "data": {
            "text/plain": [
              "(32, 32, 3)"
            ]
          },
          "metadata": {},
          "execution_count": 67
        }
      ]
    },
    {
      "cell_type": "code",
      "source": [
        "X_train = X_train / 255.0\n",
        "X_test = X_test / 255.0"
      ],
      "metadata": {
        "id": "i0aIifyIknGx"
      },
      "execution_count": 68,
      "outputs": []
    },
    {
      "cell_type": "code",
      "source": [
        "train_dataset = tf.data.Dataset.from_tensor_slices((X_train,Y_train)).shuffle(1000).batch(32).prefetch(tf.data.AUTOTUNE)\n",
        "test_dataset = tf.data.Dataset.from_tensor_slices((X_test,Y_test)).batch(32).prefetch(tf.data.AUTOTUNE)"
      ],
      "metadata": {
        "id": "2vPOXMTgkxLY"
      },
      "execution_count": 69,
      "outputs": []
    },
    {
      "cell_type": "code",
      "source": [
        "class MyCifar10Model(tf.keras.Model):\n",
        "    def __init__(self):\n",
        "        super().__init__()\n",
        "        self.conv1 = Conv2D(64, (4,4), strides=2, padding='same', activation=\"relu\")\n",
        "        self.conv2 = Conv2D(128, (4,4), strides=2, padding='same', activation=\"relu\")\n",
        "        self.conv3 = Conv2D(256, (4,4), strides=2, padding='same', activation=\"relu\")\n",
        "        self.flatten = Flatten()\n",
        "        self.d1 = Dense(64, activation=\"relu\")\n",
        "        self.d2 = Dense(32, activation=\"relu\")\n",
        "        self.drop = Dropout(0.3)\n",
        "        self.d3 = Dense(10)\n",
        "\n",
        "    def call(self, x):\n",
        "        x = self.conv1(x)\n",
        "        x = self.drop(x)\n",
        "        x = self.conv2(x)\n",
        "        x = self.drop(x)\n",
        "        x = self.conv3(x)\n",
        "        x = self.drop(x)\n",
        "        x = self.flatten(x)\n",
        "        x = self.d1(x)\n",
        "        x = self.d2(x)\n",
        "        x = self.drop(x)\n",
        "        x = self.d3(x)\n",
        "        return x\n",
        "\n",
        "model = MyCifar10Model()"
      ],
      "metadata": {
        "id": "aMMSrf7SljMA"
      },
      "execution_count": 70,
      "outputs": []
    },
    {
      "cell_type": "code",
      "source": [
        "loss_object = tf.keras.losses.SparseCategoricalCrossentropy(from_logits=True)\n",
        "optimizer = tf.keras.optimizers.Adam()"
      ],
      "metadata": {
        "id": "NtPbosrQnB8Q"
      },
      "execution_count": 71,
      "outputs": []
    },
    {
      "cell_type": "code",
      "source": [
        "train_loss = tf.keras.metrics.Mean(name='train_loss')\n",
        "train_accuracy = tf.keras.metrics.SparseCategoricalAccuracy(name='train_accuracy')\n",
        "test_loss = tf.keras.metrics.Mean(name='test_loss')\n",
        "test_accuracy = tf.keras.metrics.SparseCategoricalAccuracy(name='test_accuracy')"
      ],
      "metadata": {
        "id": "3-t1ryCknYdP"
      },
      "execution_count": 72,
      "outputs": []
    },
    {
      "cell_type": "code",
      "source": [
        "@tf.function\n",
        "def train_step(images, labels):\n",
        "  with tf.GradientTape() as tape:\n",
        "    predictions = model(images, training=True)\n",
        "    loss = loss_object(labels, predictions)\n",
        "  gradients = tape.gradient(loss, model.trainable_variables)\n",
        "  optimizer.apply_gradients(zip(gradients, model.trainable_variables))\n",
        "\n",
        "  train_loss(loss)\n",
        "  train_accuracy(labels, predictions)\n",
        "\n",
        "@tf.function\n",
        "def test_step(images, labels):\n",
        "  predictions = model(images, training=False)\n",
        "  t_loss = loss_object(labels, predictions)\n",
        "\n",
        "  test_loss(t_loss)\n",
        "  test_accuracy(labels, predictions)"
      ],
      "metadata": {
        "id": "Rf-M3KT_nvBX"
      },
      "execution_count": 73,
      "outputs": []
    },
    {
      "cell_type": "code",
      "source": [
        "EPOCHS = 6\n",
        "\n",
        "for epoch in range(EPOCHS):\n",
        "    train_loss.reset_state()\n",
        "    train_accuracy.reset_state()\n",
        "    test_loss.reset_state()\n",
        "    test_accuracy.reset_state()\n",
        "\n",
        "    for images, labels in train_dataset:\n",
        "      train_step(images, labels)\n",
        "\n",
        "    for test_images, test_labels in test_dataset:\n",
        "      test_step(test_images, test_labels)\n",
        "\n",
        "    print(\n",
        "      f'Epoch {epoch + 1}, '\n",
        "      f'Loss: {train_loss.result()}, '\n",
        "      f'Accuracy: {train_accuracy.result()}, '\n",
        "      f'Test Loss: {test_loss.result()}, '\n",
        "      f'Test Accuracy: {test_accuracy.result()}'\n",
        "    )"
      ],
      "metadata": {
        "colab": {
          "base_uri": "https://localhost:8080/"
        },
        "id": "iBf9apAjnyRv",
        "outputId": "09bc625f-ab49-41bf-85a1-dbcb89598542"
      },
      "execution_count": 74,
      "outputs": [
        {
          "output_type": "stream",
          "name": "stdout",
          "text": [
            "Epoch 1, Loss: 1.6196354627609253, Accuracy: 0.4081000089645386, Test Loss: 1.3336308002471924, Test Accuracy: 0.5212000012397766\n",
            "Epoch 2, Loss: 1.1773052215576172, Accuracy: 0.5808600187301636, Test Loss: 1.0742518901824951, Test Accuracy: 0.6234999895095825\n",
            "Epoch 3, Loss: 0.9571167826652527, Accuracy: 0.6629599928855896, Test Loss: 0.9961808323860168, Test Accuracy: 0.6485999822616577\n",
            "Epoch 4, Loss: 0.7879047989845276, Accuracy: 0.7209600210189819, Test Loss: 0.9947006702423096, Test Accuracy: 0.6694999933242798\n",
            "Epoch 5, Loss: 0.6381117701530457, Accuracy: 0.7763800024986267, Test Loss: 1.108596682548523, Test Accuracy: 0.6446999907493591\n",
            "Epoch 6, Loss: 0.5034162402153015, Accuracy: 0.8230999708175659, Test Loss: 1.2016844749450684, Test Accuracy: 0.66839998960495\n"
          ]
        }
      ]
    }
  ]
}