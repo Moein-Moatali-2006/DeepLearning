{
 "cells": [
  {
   "cell_type": "code",
   "execution_count": 3,
   "metadata": {},
   "outputs": [],
   "source": [
    "import os\n",
    "from pydub import AudioSegment, silence, utils"
   ]
  },
  {
   "cell_type": "markdown",
   "metadata": {},
   "source": [
    "If you have multiple sounds for a class, you must have one output from all of them using the following code."
   ]
  },
  {
   "cell_type": "code",
   "execution_count": null,
   "metadata": {},
   "outputs": [],
   "source": [
    "song_1 = AudioSegment.from_file(\"Voice_1.ogg\")\n",
    "song_2 = AudioSegment.from_file(\"Voice_2.ogg\")\n",
    "\n",
    "result = song_1 + song_2\n",
    "result.export(\"V1_V2.wav\")"
   ]
  },
  {
   "cell_type": "markdown",
   "metadata": {},
   "source": [
    "## Make dataset"
   ]
  },
  {
   "cell_type": "code",
   "execution_count": 4,
   "metadata": {},
   "outputs": [],
   "source": [
    "os.makedirs(\"singers_dataset\", exist_ok=True)\n",
    "\n",
    "for filename in os.listdir(\"data_Singers\"):\n",
    "    filepath = os.path.join(\"data_Singers\", filename)\n",
    "    audio = AudioSegment.from_file(filepath)\n",
    "\n",
    "    audio = audio.set_sample_width(2)   # 16-bit\n",
    "    audio = audio.set_frame_rate(48000)\n",
    "    audio = audio.set_channels(1)\n",
    "\n",
    "    chunks = silence.split_on_silence(\n",
    "        audio,\n",
    "        min_silence_len=1000,\n",
    "        silence_thresh=-40\n",
    "    )\n",
    "\n",
    "    if not chunks:\n",
    "        continue  \n",
    "    audio = sum(chunks)\n",
    "\n",
    "    chunks = utils.make_chunks(audio, 1000)\n",
    "\n",
    "    person_name = os.path.splitext(filename)[0]\n",
    "    person_dir = os.path.join(\"singers_dataset\", person_name)\n",
    "    os.makedirs(person_dir, exist_ok=True)\n",
    "\n",
    "    for x, chunk in enumerate(chunks):\n",
    "        if len(chunk) >= 1000: \n",
    "            out_path = os.path.join(person_dir, f\"voice_{x}.wav\")\n",
    "            chunk.export(out_path, format=\"wav\")\n"
   ]
  }
 ],
 "metadata": {
  "kernelspec": {
   "display_name": "Python 3",
   "language": "python",
   "name": "python3"
  },
  "language_info": {
   "codemirror_mode": {
    "name": "ipython",
    "version": 3
   },
   "file_extension": ".py",
   "mimetype": "text/x-python",
   "name": "python",
   "nbconvert_exporter": "python",
   "pygments_lexer": "ipython3",
   "version": "3.11.4"
  }
 },
 "nbformat": 4,
 "nbformat_minor": 2
}
