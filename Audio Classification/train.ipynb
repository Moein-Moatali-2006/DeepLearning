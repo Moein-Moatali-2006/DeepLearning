{
  "nbformat": 4,
  "nbformat_minor": 0,
  "metadata": {
    "colab": {
      "provenance": [],
      "gpuType": "T4"
    },
    "kernelspec": {
      "name": "python3",
      "display_name": "Python 3"
    },
    "language_info": {
      "name": "python"
    },
    "accelerator": "GPU"
  },
  "cells": [
    {
      "cell_type": "code",
      "execution_count": 13,
      "metadata": {
        "id": "QiYYn5GLPGEp"
      },
      "outputs": [],
      "source": [
        "import tensorflow as tf"
      ]
    },
    {
      "cell_type": "code",
      "source": [
        "dataset_path = \"/content/drive/MyDrive/voice_dataset/\"\n",
        "\n",
        "train_data = tf.keras.utils.audio_dataset_from_directory(\n",
        "    dataset_path,\n",
        "    labels='inferred',\n",
        "    label_mode='categorical',\n",
        "    batch_size=4,\n",
        "    sampling_rate=None,\n",
        "    output_sequence_length=48000,\n",
        "    ragged=False,\n",
        "    shuffle=True,\n",
        "    seed=256,\n",
        "    validation_split=0.2,\n",
        "    subset=\"training\"\n",
        ")\n",
        "\n",
        "validation_data = tf.keras.utils.audio_dataset_from_directory(\n",
        "    dataset_path,\n",
        "    labels='inferred',\n",
        "    label_mode='categorical',\n",
        "    batch_size=4,\n",
        "    sampling_rate=None,\n",
        "    output_sequence_length=48000,\n",
        "    ragged=False,\n",
        "    shuffle=False,\n",
        "    seed=256,\n",
        "    validation_split=0.2,\n",
        "    subset=\"validation\"\n",
        ")"
      ],
      "metadata": {
        "colab": {
          "base_uri": "https://localhost:8080/"
        },
        "id": "nM28d046PtGw",
        "outputId": "19b4ca89-7d3b-450b-9276-4be65a0dbb46"
      },
      "execution_count": 19,
      "outputs": [
        {
          "output_type": "stream",
          "name": "stdout",
          "text": [
            "Found 1340 files belonging to 16 classes.\n",
            "Using 1072 files for training.\n",
            "Found 1340 files belonging to 16 classes.\n",
            "Using 268 files for validation.\n"
          ]
        }
      ]
    },
    {
      "cell_type": "code",
      "source": [
        "print(train_data.class_names)"
      ],
      "metadata": {
        "colab": {
          "base_uri": "https://localhost:8080/"
        },
        "id": "utuC6QKRRfpx",
        "outputId": "8d7abf50-e9cc-4ffe-8007-69f7a70eebe5"
      },
      "execution_count": 20,
      "outputs": [
        {
          "output_type": "stream",
          "name": "stdout",
          "text": [
            "['A_Ramezani', 'AmirHosein_Molaei', 'Davood_Fazeli', 'Javad_Nematollahi', 'Khadijeh_Valipour', 'Kiana_Jahanshid', 'Maryam_Saeedi', 'Matin_Ghorbani', 'Moein_Moatali', 'Mohamad_parvari', 'Mohammad_nematizadeh', 'Mona_nematizadeh', 'Nahid_Ebrahimian', 'Nima', 'Sajedeh_Gharabadiyan', 'Shima_Bazzazan']\n"
          ]
        }
      ]
    },
    {
      "cell_type": "code",
      "source": [
        "model = tf.keras.models.Sequential([\n",
        "    tf.keras.layers.Conv1D(filters=32,kernel_size=3,strides=16,activation=\"relu\",input_shape=(48000,1)),\n",
        "    tf.keras.layers.MaxPool1D(4),\n",
        "    tf.keras.layers.Conv1D(filters=32,kernel_size=3,activation=\"relu\"),\n",
        "    tf.keras.layers.MaxPool1D(4),\n",
        "    tf.keras.layers.Conv1D(filters=64,kernel_size=3,activation=\"relu\"),\n",
        "    tf.keras.layers.MaxPool1D(4),\n",
        "    tf.keras.layers.Conv1D(filters=64,kernel_size=3,activation=\"relu\"),\n",
        "    tf.keras.layers.MaxPool1D(4),\n",
        "\n",
        "    tf.keras.layers.Flatten(),\n",
        "    tf.keras.layers.Dropout(0.4),\n",
        "    tf.keras.layers.Dense(16,activation=\"softmax\")\n",
        "])"
      ],
      "metadata": {
        "id": "6eILMbSISwuy",
        "colab": {
          "base_uri": "https://localhost:8080/"
        },
        "outputId": "fe70fe81-2df9-471c-b9e2-da570ab05737"
      },
      "execution_count": 21,
      "outputs": [
        {
          "output_type": "stream",
          "name": "stderr",
          "text": [
            "/usr/local/lib/python3.11/dist-packages/keras/src/layers/convolutional/base_conv.py:107: UserWarning: Do not pass an `input_shape`/`input_dim` argument to a layer. When using Sequential models, prefer using an `Input(shape)` object as the first layer in the model instead.\n",
            "  super().__init__(activity_regularizer=activity_regularizer, **kwargs)\n"
          ]
        }
      ]
    },
    {
      "cell_type": "code",
      "source": [
        "model.compile(optimizer=tf.keras.optimizers.Adam(),\n",
        "              loss=tf.keras.losses.CategoricalCrossentropy(),\n",
        "              metrics=[\"accuracy\"])"
      ],
      "metadata": {
        "id": "co0Q-wsIUU-Z"
      },
      "execution_count": 22,
      "outputs": []
    },
    {
      "cell_type": "code",
      "source": [
        "model.fit(train_data,validation_data=validation_data,epochs=18)"
      ],
      "metadata": {
        "colab": {
          "base_uri": "https://localhost:8080/"
        },
        "id": "1aZzTryrUoA4",
        "outputId": "89698358-a6b0-412c-d0c2-1c0537f93436"
      },
      "execution_count": 23,
      "outputs": [
        {
          "output_type": "stream",
          "name": "stdout",
          "text": [
            "Epoch 1/18\n",
            "\u001b[1m268/268\u001b[0m \u001b[32m━━━━━━━━━━━━━━━━━━━━\u001b[0m\u001b[37m\u001b[0m \u001b[1m9s\u001b[0m 16ms/step - accuracy: 0.1100 - loss: 2.6664 - val_accuracy: 0.0037 - val_loss: 2.4454\n",
            "Epoch 2/18\n",
            "\u001b[1m268/268\u001b[0m \u001b[32m━━━━━━━━━━━━━━━━━━━━\u001b[0m\u001b[37m\u001b[0m \u001b[1m4s\u001b[0m 13ms/step - accuracy: 0.2043 - loss: 2.2406 - val_accuracy: 0.1231 - val_loss: 2.1257\n",
            "Epoch 3/18\n",
            "\u001b[1m268/268\u001b[0m \u001b[32m━━━━━━━━━━━━━━━━━━━━\u001b[0m\u001b[37m\u001b[0m \u001b[1m5s\u001b[0m 18ms/step - accuracy: 0.3372 - loss: 1.8732 - val_accuracy: 0.2015 - val_loss: 1.9013\n",
            "Epoch 4/18\n",
            "\u001b[1m268/268\u001b[0m \u001b[32m━━━━━━━━━━━━━━━━━━━━\u001b[0m\u001b[37m\u001b[0m \u001b[1m4s\u001b[0m 14ms/step - accuracy: 0.4810 - loss: 1.4560 - val_accuracy: 0.7090 - val_loss: 1.1418\n",
            "Epoch 5/18\n",
            "\u001b[1m268/268\u001b[0m \u001b[32m━━━━━━━━━━━━━━━━━━━━\u001b[0m\u001b[37m\u001b[0m \u001b[1m5s\u001b[0m 14ms/step - accuracy: 0.6021 - loss: 1.1249 - val_accuracy: 0.6828 - val_loss: 1.0364\n",
            "Epoch 6/18\n",
            "\u001b[1m268/268\u001b[0m \u001b[32m━━━━━━━━━━━━━━━━━━━━\u001b[0m\u001b[37m\u001b[0m \u001b[1m6s\u001b[0m 18ms/step - accuracy: 0.6744 - loss: 0.9248 - val_accuracy: 0.7948 - val_loss: 0.7501\n",
            "Epoch 7/18\n",
            "\u001b[1m268/268\u001b[0m \u001b[32m━━━━━━━━━━━━━━━━━━━━\u001b[0m\u001b[37m\u001b[0m \u001b[1m4s\u001b[0m 16ms/step - accuracy: 0.7514 - loss: 0.7147 - val_accuracy: 0.8507 - val_loss: 0.5731\n",
            "Epoch 8/18\n",
            "\u001b[1m268/268\u001b[0m \u001b[32m━━━━━━━━━━━━━━━━━━━━\u001b[0m\u001b[37m\u001b[0m \u001b[1m4s\u001b[0m 16ms/step - accuracy: 0.8001 - loss: 0.5850 - val_accuracy: 0.8619 - val_loss: 0.5605\n",
            "Epoch 9/18\n",
            "\u001b[1m268/268\u001b[0m \u001b[32m━━━━━━━━━━━━━━━━━━━━\u001b[0m\u001b[37m\u001b[0m \u001b[1m5s\u001b[0m 14ms/step - accuracy: 0.8230 - loss: 0.5269 - val_accuracy: 0.9291 - val_loss: 0.3361\n",
            "Epoch 10/18\n",
            "\u001b[1m268/268\u001b[0m \u001b[32m━━━━━━━━━━━━━━━━━━━━\u001b[0m\u001b[37m\u001b[0m \u001b[1m5s\u001b[0m 15ms/step - accuracy: 0.8383 - loss: 0.4525 - val_accuracy: 0.9179 - val_loss: 0.3301\n",
            "Epoch 11/18\n",
            "\u001b[1m268/268\u001b[0m \u001b[32m━━━━━━━━━━━━━━━━━━━━\u001b[0m\u001b[37m\u001b[0m \u001b[1m5s\u001b[0m 20ms/step - accuracy: 0.8516 - loss: 0.4375 - val_accuracy: 0.9179 - val_loss: 0.3202\n",
            "Epoch 12/18\n",
            "\u001b[1m268/268\u001b[0m \u001b[32m━━━━━━━━━━━━━━━━━━━━\u001b[0m\u001b[37m\u001b[0m \u001b[1m4s\u001b[0m 14ms/step - accuracy: 0.8652 - loss: 0.3866 - val_accuracy: 0.9552 - val_loss: 0.1855\n",
            "Epoch 13/18\n",
            "\u001b[1m268/268\u001b[0m \u001b[32m━━━━━━━━━━━━━━━━━━━━\u001b[0m\u001b[37m\u001b[0m \u001b[1m4s\u001b[0m 16ms/step - accuracy: 0.8851 - loss: 0.3330 - val_accuracy: 0.9328 - val_loss: 0.2911\n",
            "Epoch 14/18\n",
            "\u001b[1m268/268\u001b[0m \u001b[32m━━━━━━━━━━━━━━━━━━━━\u001b[0m\u001b[37m\u001b[0m \u001b[1m5s\u001b[0m 18ms/step - accuracy: 0.9113 - loss: 0.3074 - val_accuracy: 0.9590 - val_loss: 0.1804\n",
            "Epoch 15/18\n",
            "\u001b[1m268/268\u001b[0m \u001b[32m━━━━━━━━━━━━━━━━━━━━\u001b[0m\u001b[37m\u001b[0m \u001b[1m4s\u001b[0m 16ms/step - accuracy: 0.9028 - loss: 0.2942 - val_accuracy: 0.9216 - val_loss: 0.3122\n",
            "Epoch 16/18\n",
            "\u001b[1m268/268\u001b[0m \u001b[32m━━━━━━━━━━━━━━━━━━━━\u001b[0m\u001b[37m\u001b[0m \u001b[1m4s\u001b[0m 14ms/step - accuracy: 0.9123 - loss: 0.2816 - val_accuracy: 0.9776 - val_loss: 0.1293\n",
            "Epoch 17/18\n",
            "\u001b[1m268/268\u001b[0m \u001b[32m━━━━━━━━━━━━━━━━━━━━\u001b[0m\u001b[37m\u001b[0m \u001b[1m5s\u001b[0m 18ms/step - accuracy: 0.9275 - loss: 0.2265 - val_accuracy: 0.9440 - val_loss: 0.2104\n",
            "Epoch 18/18\n",
            "\u001b[1m268/268\u001b[0m \u001b[32m━━━━━━━━━━━━━━━━━━━━\u001b[0m\u001b[37m\u001b[0m \u001b[1m4s\u001b[0m 14ms/step - accuracy: 0.9353 - loss: 0.2067 - val_accuracy: 0.9776 - val_loss: 0.0963\n"
          ]
        },
        {
          "output_type": "execute_result",
          "data": {
            "text/plain": [
              "<keras.src.callbacks.history.History at 0x7e1a42fc1b90>"
            ]
          },
          "metadata": {},
          "execution_count": 23
        }
      ]
    },
    {
      "cell_type": "code",
      "source": [
        "model.save(\"voice_model.h5\")"
      ],
      "metadata": {
        "colab": {
          "base_uri": "https://localhost:8080/"
        },
        "id": "7Y8M1r7AsYE7",
        "outputId": "563b8fec-bdf1-49c3-d548-0ec7138cbef8"
      },
      "execution_count": 24,
      "outputs": [
        {
          "output_type": "stream",
          "name": "stderr",
          "text": [
            "WARNING:absl:You are saving your model as an HDF5 file via `model.save()` or `keras.saving.save_model(model)`. This file format is considered legacy. We recommend using instead the native Keras format, e.g. `model.save('my_model.keras')` or `keras.saving.save_model(model, 'my_model.keras')`. \n"
          ]
        }
      ]
    }
  ]
}