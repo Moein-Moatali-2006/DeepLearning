{
  "cells": [
    {
      "cell_type": "code",
      "execution_count": 21,
      "metadata": {
        "id": "iJUHpgWlveRh"
      },
      "outputs": [],
      "source": [
        "!pip install -q pytelegrambotapi pydub"
      ]
    },
    {
      "cell_type": "code",
      "execution_count": 22,
      "metadata": {
        "id": "-QkY_cCVv8xP"
      },
      "outputs": [],
      "source": [
        "import os\n",
        "import telebot\n",
        "import numpy as np\n",
        "from pydub import AudioSegment, silence, utils\n",
        "from tensorflow.keras.models import load_model"
      ]
    },
    {
      "cell_type": "code",
      "execution_count": null,
      "metadata": {
        "colab": {
          "base_uri": "https://localhost:8080/"
        },
        "id": "dpjEjMVpwDrd",
        "outputId": "a770daa4-f5ae-4118-9c7e-813a3f403baf"
      },
      "outputs": [
        {
          "name": "stderr",
          "output_type": "stream",
          "text": [
            "WARNING:absl:Compiled the loaded model, but the compiled metrics have yet to be built. `model.compile_metrics` will be empty until you train or evaluate the model.\n"
          ]
        }
      ],
      "source": [
        "TOKEN = '7288651187:AAGntB3njMyb7FUeC7p4uPo8KBPw_pdo96E'\n",
        "bot = telebot.TeleBot(TOKEN)\n",
        "model = load_model('voice_model.h5')"
      ]
    },
    {
      "cell_type": "code",
      "execution_count": 24,
      "metadata": {
        "id": "kSuHfsufzmiO"
      },
      "outputs": [],
      "source": [
        "classes = ['A_Ramezani', 'AmirHosein_Molaei', 'Davood_Fazeli', 'Javad_Nematollahi', 'Khadijeh_Valipour', 'Kiana_Jahanshid', 'Maryam_Saeedi', 'Matin_Ghorbani', 'Moein_Moatali', 'Mohamad_parvari', 'Mohammad_nematizadeh', 'Mona_nematizadeh', 'Nahid_Ebrahimian', 'Nima', 'Sajedeh_Gharabadiyan', 'Shima_Bazzazan']"
      ]
    },
    {
      "cell_type": "code",
      "execution_count": 25,
      "metadata": {
        "id": "zEH9JbhBx0G1"
      },
      "outputs": [],
      "source": [
        "def preprocess_chunk(chunk):\n",
        "    chunk = chunk.set_sample_width(2)\n",
        "    chunk = chunk.set_frame_rate(48000)\n",
        "    chunk = chunk.set_channels(1)\n",
        "\n",
        "    samples = np.array(chunk.get_array_of_samples()).astype(np.float32) / 32768.0\n",
        "    if len(samples) < 48000:\n",
        "        samples = np.pad(samples, (0, 48000 - len(samples)))\n",
        "    else:\n",
        "        samples = samples[:48000]\n",
        "\n",
        "    return np.expand_dims(samples, axis=0)"
      ]
    },
    {
      "cell_type": "code",
      "execution_count": 26,
      "metadata": {
        "id": "Qk1973XCwVUc"
      },
      "outputs": [],
      "source": [
        "@bot.message_handler(content_types=['voice'])\n",
        "def handle_voice(message):\n",
        "    file_info = bot.get_file(message.voice.file_id)\n",
        "    downloaded_file = bot.download_file(file_info.file_path)\n",
        "\n",
        "    ogg_path = f\"{message.from_user.id}.ogg\"\n",
        "    wav_path = f\"{message.from_user.id}.wav\"\n",
        "\n",
        "    with open(ogg_path, 'wb') as f:\n",
        "        f.write(downloaded_file)\n",
        "\n",
        "    audio = AudioSegment.from_ogg(ogg_path)\n",
        "\n",
        "    chunks = silence.split_on_silence(\n",
        "        audio,\n",
        "        min_silence_len=1000,\n",
        "        silence_thresh=-40\n",
        "    )\n",
        "\n",
        "    if not chunks:\n",
        "        bot.reply_to(message, \"I couldn't process your voice, Please try again!\")\n",
        "        return\n",
        "    audio_processed = sum(chunks)\n",
        "\n",
        "    chunks = utils.make_chunks(audio_processed, 1000)\n",
        "\n",
        "    predictions = []\n",
        "    for chunk in chunks:\n",
        "        if len(chunk) >= 1000:\n",
        "            input_data = preprocess_chunk(chunk)\n",
        "            pred = model.predict(input_data)\n",
        "            pred_class = np.argmax(pred)\n",
        "            predictions.append(pred_class)\n",
        "\n",
        "    if not predictions:\n",
        "        bot.reply_to(message, \"Error\")\n",
        "        return\n",
        "\n",
        "    from collections import Counter\n",
        "    most_common_class = Counter(predictions).most_common(1)[0][0]\n",
        "\n",
        "    bot.reply_to(message, f\"Model predicted: {classes[most_common_class]}\")\n"
      ]
    },
    {
      "cell_type": "code",
      "execution_count": null,
      "metadata": {
        "colab": {
          "base_uri": "https://localhost:8080/"
        },
        "id": "3Qy0NdL5wXnW",
        "outputId": "3cf5f740-01bd-4875-fd99-620df781f3ec"
      },
      "outputs": [],
      "source": [
        "bot.polling()"
      ]
    }
  ],
  "metadata": {
    "accelerator": "GPU",
    "colab": {
      "gpuType": "T4",
      "provenance": []
    },
    "kernelspec": {
      "display_name": "Python 3",
      "name": "python3"
    },
    "language_info": {
      "name": "python"
    }
  },
  "nbformat": 4,
  "nbformat_minor": 0
}
