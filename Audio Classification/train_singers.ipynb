{
  "cells": [
    {
      "cell_type": "code",
      "execution_count": 7,
      "metadata": {
        "id": "QiYYn5GLPGEp"
      },
      "outputs": [],
      "source": [
        "import tensorflow as tf"
      ]
    },
    {
      "cell_type": "code",
      "execution_count": 9,
      "metadata": {
        "colab": {
          "base_uri": "https://localhost:8080/"
        },
        "id": "nM28d046PtGw",
        "outputId": "19b4ca89-7d3b-450b-9276-4be65a0dbb46"
      },
      "outputs": [
        {
          "name": "stdout",
          "output_type": "stream",
          "text": [
            "Found 5316 files belonging to 5 classes.\n",
            "Using 4785 files for training.\n",
            "Found 5316 files belonging to 5 classes.\n",
            "Using 1063 files for validation.\n"
          ]
        }
      ],
      "source": [
        "dataset_path = \"./singers_dataset\"\n",
        "\n",
        "train_data = tf.keras.utils.audio_dataset_from_directory(\n",
        "    dataset_path,\n",
        "    labels='inferred',\n",
        "    label_mode='categorical',\n",
        "    batch_size=4,\n",
        "    sampling_rate=None,\n",
        "    output_sequence_length=48000,\n",
        "    ragged=False,\n",
        "    shuffle=True,\n",
        "    seed=256,\n",
        "    validation_split=0.1,\n",
        "    subset=\"training\"\n",
        ")\n",
        "\n",
        "validation_data = tf.keras.utils.audio_dataset_from_directory(\n",
        "    dataset_path,\n",
        "    labels='inferred',\n",
        "    label_mode='categorical',\n",
        "    batch_size=4,\n",
        "    sampling_rate=None,\n",
        "    output_sequence_length=48000,\n",
        "    ragged=False,\n",
        "    shuffle=False,\n",
        "    seed=256,\n",
        "    validation_split=0.2,\n",
        "    subset=\"validation\"\n",
        ")"
      ]
    },
    {
      "cell_type": "code",
      "execution_count": 10,
      "metadata": {
        "colab": {
          "base_uri": "https://localhost:8080/"
        },
        "id": "utuC6QKRRfpx",
        "outputId": "8d7abf50-e9cc-4ffe-8007-69f7a70eebe5"
      },
      "outputs": [
        {
          "name": "stdout",
          "output_type": "stream",
          "text": [
            "['Hayedeh', 'Moein', 'Mohsen_Chavoshi', 'Siavash_Ghomayshi', 'Yas']\n"
          ]
        }
      ],
      "source": [
        "print(train_data.class_names)"
      ]
    },
    {
      "cell_type": "code",
      "execution_count": 11,
      "metadata": {
        "colab": {
          "base_uri": "https://localhost:8080/"
        },
        "id": "6eILMbSISwuy",
        "outputId": "fe70fe81-2df9-471c-b9e2-da570ab05737"
      },
      "outputs": [],
      "source": [
        "model = tf.keras.models.Sequential([\n",
        "    tf.keras.layers.Conv1D(filters=32,kernel_size=3,strides=16,activation=\"relu\",input_shape=(48000,1)),\n",
        "    tf.keras.layers.MaxPool1D(4),\n",
        "    tf.keras.layers.Conv1D(filters=32,kernel_size=3,activation=\"relu\"),\n",
        "    tf.keras.layers.MaxPool1D(4),\n",
        "    tf.keras.layers.Conv1D(filters=64,kernel_size=3,activation=\"relu\"),\n",
        "    tf.keras.layers.MaxPool1D(4),\n",
        "    tf.keras.layers.Conv1D(filters=64,kernel_size=3,activation=\"relu\"),\n",
        "    tf.keras.layers.MaxPool1D(4),\n",
        "\n",
        "    tf.keras.layers.Flatten(),\n",
        "    tf.keras.layers.Dropout(0.4),\n",
        "    tf.keras.layers.Dense(5,activation=\"softmax\")\n",
        "])"
      ]
    },
    {
      "cell_type": "code",
      "execution_count": 12,
      "metadata": {
        "id": "co0Q-wsIUU-Z"
      },
      "outputs": [],
      "source": [
        "model.compile(optimizer=tf.keras.optimizers.Adam(),\n",
        "              loss=tf.keras.losses.CategoricalCrossentropy(),\n",
        "              metrics=[\"accuracy\"])"
      ]
    },
    {
      "cell_type": "code",
      "execution_count": 13,
      "metadata": {
        "colab": {
          "base_uri": "https://localhost:8080/"
        },
        "id": "1aZzTryrUoA4",
        "outputId": "89698358-a6b0-412c-d0c2-1c0537f93436"
      },
      "outputs": [
        {
          "name": "stdout",
          "output_type": "stream",
          "text": [
            "Epoch 1/6\n",
            "\u001b[1m1197/1197\u001b[0m \u001b[32m━━━━━━━━━━━━━━━━━━━━\u001b[0m\u001b[37m\u001b[0m \u001b[1m46s\u001b[0m 36ms/step - accuracy: 0.3648 - loss: 1.3861 - val_accuracy: 0.7968 - val_loss: 0.7713\n",
            "Epoch 2/6\n",
            "\u001b[1m1197/1197\u001b[0m \u001b[32m━━━━━━━━━━━━━━━━━━━━\u001b[0m\u001b[37m\u001b[0m \u001b[1m37s\u001b[0m 30ms/step - accuracy: 0.6325 - loss: 0.8921 - val_accuracy: 0.9172 - val_loss: 0.3656\n",
            "Epoch 3/6\n",
            "\u001b[1m1197/1197\u001b[0m \u001b[32m━━━━━━━━━━━━━━━━━━━━\u001b[0m\u001b[37m\u001b[0m \u001b[1m44s\u001b[0m 37ms/step - accuracy: 0.6892 - loss: 0.7591 - val_accuracy: 0.9436 - val_loss: 0.2965\n",
            "Epoch 4/6\n",
            "\u001b[1m1197/1197\u001b[0m \u001b[32m━━━━━━━━━━━━━━━━━━━━\u001b[0m\u001b[37m\u001b[0m \u001b[1m44s\u001b[0m 36ms/step - accuracy: 0.7249 - loss: 0.6939 - val_accuracy: 0.8692 - val_loss: 0.4738\n",
            "Epoch 5/6\n",
            "\u001b[1m1197/1197\u001b[0m \u001b[32m━━━━━━━━━━━━━━━━━━━━\u001b[0m\u001b[37m\u001b[0m \u001b[1m44s\u001b[0m 36ms/step - accuracy: 0.7478 - loss: 0.6271 - val_accuracy: 0.8316 - val_loss: 0.5123\n",
            "Epoch 6/6\n",
            "\u001b[1m1197/1197\u001b[0m \u001b[32m━━━━━━━━━━━━━━━━━━━━\u001b[0m\u001b[37m\u001b[0m \u001b[1m44s\u001b[0m 37ms/step - accuracy: 0.7643 - loss: 0.5921 - val_accuracy: 0.9501 - val_loss: 0.1988\n"
          ]
        },
        {
          "data": {
            "text/plain": [
              "<keras.src.callbacks.history.History at 0x16af79e0c50>"
            ]
          },
          "execution_count": 13,
          "metadata": {},
          "output_type": "execute_result"
        }
      ],
      "source": [
        "model.fit(train_data,validation_data=validation_data,epochs=6)"
      ]
    },
    {
      "cell_type": "code",
      "execution_count": null,
      "metadata": {
        "colab": {
          "base_uri": "https://localhost:8080/"
        },
        "id": "7Y8M1r7AsYE7",
        "outputId": "563b8fec-bdf1-49c3-d548-0ec7138cbef8"
      },
      "outputs": [
        {
          "name": "stderr",
          "output_type": "stream",
          "text": [
            "WARNING:absl:You are saving your model as an HDF5 file via `model.save()` or `keras.saving.save_model(model)`. This file format is considered legacy. We recommend using instead the native Keras format, e.g. `model.save('my_model.keras')` or `keras.saving.save_model(model, 'my_model.keras')`. \n"
          ]
        }
      ],
      "source": [
        "model.save(\"singers_model.h5\")"
      ]
    }
  ],
  "metadata": {
    "accelerator": "GPU",
    "colab": {
      "gpuType": "T4",
      "provenance": []
    },
    "kernelspec": {
      "display_name": "Python 3",
      "name": "python3"
    },
    "language_info": {
      "codemirror_mode": {
        "name": "ipython",
        "version": 3
      },
      "file_extension": ".py",
      "mimetype": "text/x-python",
      "name": "python",
      "nbconvert_exporter": "python",
      "pygments_lexer": "ipython3",
      "version": "3.11.4"
    }
  },
  "nbformat": 4,
  "nbformat_minor": 0
}
