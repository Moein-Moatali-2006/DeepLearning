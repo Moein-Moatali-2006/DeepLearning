{
  "cells": [
    {
      "cell_type": "code",
      "execution_count": 6,
      "metadata": {},
      "outputs": [],
      "source": [
        "import os\n",
        "from spleeter.separator import Separator"
      ]
    },
    {
      "cell_type": "code",
      "execution_count": 7,
      "metadata": {
        "id": "Ueff1zHsAwnC"
      },
      "outputs": [],
      "source": [
        "input_root = './singers'\n",
        "output_root = './separated_songs'"
      ]
    },
    {
      "cell_type": "code",
      "execution_count": 8,
      "metadata": {},
      "outputs": [],
      "source": [
        "separator = Separator(\"spleeter:2stems\")"
      ]
    },
    {
      "cell_type": "code",
      "execution_count": 10,
      "metadata": {},
      "outputs": [
        {
          "name": "stdout",
          "output_type": "stream",
          "text": [
            "processing🔄 : ./singers\\Hayedeh\\Hayedeh_1.mp3\n",
            "INFO:tensorflow:Apply unet for vocals_spectrogram\n",
            "INFO:tensorflow:Apply unet for accompaniment_spectrogram\n",
            "INFO:tensorflow:Restoring parameters from pretrained_models\\2stems\\model\n",
            "processing🔄 : ./singers\\Hayedeh\\Hayedeh_2.mp3\n",
            "processing🔄 : ./singers\\Hayedeh\\Hayedeh_3.mp3\n",
            "processing🔄 : ./singers\\Hayedeh\\Hayedeh_4.mp3\n",
            "processing🔄 : ./singers\\Hayedeh\\Hayedeh_5.mp3\n",
            "processing🔄 : ./singers\\Moein\\Moein_1.mp3\n",
            "processing🔄 : ./singers\\Moein\\Moein_2.mp3\n",
            "processing🔄 : ./singers\\Moein\\Moein_3.mp3\n",
            "processing🔄 : ./singers\\Moein\\Moein_4.mp3\n",
            "processing🔄 : ./singers\\Moein\\Moein_5.mp3\n",
            "processing🔄 : ./singers\\Mohsen_Chavoshi\\Mohsen_Chavoshi_1.mp3\n",
            "processing🔄 : ./singers\\Mohsen_Chavoshi\\Mohsen_Chavoshi_2.mp3\n",
            "processing🔄 : ./singers\\Mohsen_Chavoshi\\Mohsen_Chavoshi_3.mp3\n",
            "processing🔄 : ./singers\\Mohsen_Chavoshi\\Mohsen_Chavoshi_4.mp3\n",
            "processing🔄 : ./singers\\Mohsen_Chavoshi\\Mohsen_Chavoshi_5.mp3\n",
            "processing🔄 : ./singers\\Siavash_Ghomayshi\\Siavash_Ghomayshi_1.mp3\n",
            "processing🔄 : ./singers\\Siavash_Ghomayshi\\Siavash_Ghomayshi_2.mp3\n",
            "processing🔄 : ./singers\\Siavash_Ghomayshi\\Siavash_Ghomayshi_3.mp3\n",
            "processing🔄 : ./singers\\Siavash_Ghomayshi\\Siavash_Ghomayshi_4.mp3\n",
            "processing🔄 : ./singers\\Siavash_Ghomayshi\\Siavash_Ghomayshi_5.mp3\n",
            "processing🔄 : ./singers\\Yas\\Yas_1.mp3\n",
            "processing🔄 : ./singers\\Yas\\Yas_2.mp3\n",
            "processing🔄 : ./singers\\Yas\\Yas_3.mp3\n",
            "processing🔄 : ./singers\\Yas\\Yas_4.mp3\n",
            "processing🔄 : ./singers\\Yas\\Yas_5.mp3\n",
            "Finished\n"
          ]
        }
      ],
      "source": [
        "for singer_name in os.listdir(input_root):\n",
        "    singer_path = os.path.join(input_root, singer_name)\n",
        "    if not os.path.isdir(singer_path):\n",
        "        continue\n",
        "\n",
        "    for filename in os.listdir(singer_path):\n",
        "        if filename.endswith('.mp3'):\n",
        "            input_path = os.path.join(singer_path, filename)\n",
        "            singer_output_path = os.path.join(output_root, singer_name)\n",
        "\n",
        "            print(f'processing🔄 : {input_path}')\n",
        "            separator.separate_to_file(input_path, singer_output_path)\n",
        "\n",
        "print(\"Finished\")"
      ]
    }
  ],
  "metadata": {
    "colab": {
      "name": "spleeter.ipynb",
      "provenance": []
    },
    "kernelspec": {
      "display_name": "spleeter-env",
      "language": "python",
      "name": "python3"
    },
    "language_info": {
      "codemirror_mode": {
        "name": "ipython",
        "version": 3
      },
      "file_extension": ".py",
      "mimetype": "text/x-python",
      "name": "python",
      "nbconvert_exporter": "python",
      "pygments_lexer": "ipython3",
      "version": "3.9.13"
    }
  },
  "nbformat": 4,
  "nbformat_minor": 0
}
