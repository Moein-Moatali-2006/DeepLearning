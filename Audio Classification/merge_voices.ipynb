{
 "cells": [
  {
   "cell_type": "code",
   "execution_count": 2,
   "metadata": {},
   "outputs": [],
   "source": [
    "from pydub import AudioSegment"
   ]
  },
  {
   "cell_type": "code",
   "execution_count": null,
   "metadata": {},
   "outputs": [
    {
     "data": {
      "text/plain": [
       "<_io.BufferedRandom name='./data_singers/Hayedeh/Hayedeh.wav'>"
      ]
     },
     "execution_count": 3,
     "metadata": {},
     "output_type": "execute_result"
    }
   ],
   "source": [
    "v1 = AudioSegment.from_file(\"Persian Singers\\separated_songs\\Hayedeh\\Hayedeh_1/vocals.wav\")\n",
    "v2 = AudioSegment.from_file(\"Persian Singers\\separated_songs\\Hayedeh\\Hayedeh_2/vocals.wav\")\n",
    "v3 = AudioSegment.from_file(\"Persian Singers\\separated_songs\\Hayedeh\\Hayedeh_3/vocals.wav\")\n",
    "v4 = AudioSegment.from_file(\"Persian Singers\\separated_songs\\Hayedeh\\Hayedeh_4/vocals.wav\")\n",
    "v5 = AudioSegment.from_file(\"Persian Singers\\separated_songs\\Hayedeh\\Hayedeh_5/vocals.wav\")\n",
    "\n",
    "result = v1 + v2 + v3 + v4 + v5\n",
    "result.export(\"./data_singers/Hayedeh.wav\",format=\"wav\")"
   ]
  },
  {
   "cell_type": "code",
   "execution_count": null,
   "metadata": {},
   "outputs": [
    {
     "data": {
      "text/plain": [
       "<_io.BufferedRandom name='./data_singers/Moein/Moein.wav'>"
      ]
     },
     "execution_count": 5,
     "metadata": {},
     "output_type": "execute_result"
    }
   ],
   "source": [
    "v1 = AudioSegment.from_file(\"Persian Singers\\separated_songs\\Moein\\Moein_1/vocals.wav\")\n",
    "v2 = AudioSegment.from_file(\"Persian Singers\\separated_songs\\Moein\\Moein_2/vocals.wav\")\n",
    "v3 = AudioSegment.from_file(\"Persian Singers\\separated_songs\\Moein\\Moein_3/vocals.wav\")\n",
    "v4 = AudioSegment.from_file(\"Persian Singers\\separated_songs\\Moein\\Moein_4/vocals.wav\")\n",
    "v5 = AudioSegment.from_file(\"Persian Singers\\separated_songs\\Moein\\Moein_5/vocals.wav\")\n",
    "\n",
    "result = v1 + v2 + v3 + v4 + v5\n",
    "result.export(\"./data_singers/Moein.wav\",format=\"wav\")"
   ]
  },
  {
   "cell_type": "code",
   "execution_count": null,
   "metadata": {},
   "outputs": [
    {
     "data": {
      "text/plain": [
       "<_io.BufferedRandom name='./data_singers/Mohsen_Chavoshi/Mohsen_Chavoshi.wav'>"
      ]
     },
     "execution_count": 6,
     "metadata": {},
     "output_type": "execute_result"
    }
   ],
   "source": [
    "v1 = AudioSegment.from_file(\"Persian Singers\\separated_songs\\Mohsen_Chavoshi\\Mohsen_Chavoshi_1/vocals.wav\")\n",
    "v2 = AudioSegment.from_file(\"Persian Singers\\separated_songs\\Mohsen_Chavoshi\\Mohsen_Chavoshi_2/vocals.wav\")\n",
    "v3 = AudioSegment.from_file(\"Persian Singers\\separated_songs\\Mohsen_Chavoshi\\Mohsen_Chavoshi_3/vocals.wav\")\n",
    "v4 = AudioSegment.from_file(\"Persian Singers\\separated_songs\\Mohsen_Chavoshi\\Mohsen_Chavoshi_4/vocals.wav\")\n",
    "v5 = AudioSegment.from_file(\"Persian Singers\\separated_songs\\Mohsen_Chavoshi\\Mohsen_Chavoshi_5/vocals.wav\")\n",
    "\n",
    "result = v1 + v2 + v3 + v4 + v5\n",
    "result.export(\"./data_singers/Mohsen_Chavoshi.wav\",format=\"wav\")"
   ]
  },
  {
   "cell_type": "code",
   "execution_count": null,
   "metadata": {},
   "outputs": [
    {
     "data": {
      "text/plain": [
       "<_io.BufferedRandom name='./data_singers/Siavash_Ghomayshi/Siavash_Ghomayshi.wav'>"
      ]
     },
     "execution_count": 7,
     "metadata": {},
     "output_type": "execute_result"
    }
   ],
   "source": [
    "v1 = AudioSegment.from_file(\"Persian Singers\\separated_songs\\Siavash_Ghomayshi\\Siavash_Ghomayshi_1/vocals.wav\")\n",
    "v2 = AudioSegment.from_file(\"Persian Singers\\separated_songs\\Siavash_Ghomayshi\\Siavash_Ghomayshi_2/vocals.wav\")\n",
    "v3 = AudioSegment.from_file(\"Persian Singers\\separated_songs\\Siavash_Ghomayshi\\Siavash_Ghomayshi_3/vocals.wav\")\n",
    "v4 = AudioSegment.from_file(\"Persian Singers\\separated_songs\\Siavash_Ghomayshi\\Siavash_Ghomayshi_4/vocals.wav\")\n",
    "v5 = AudioSegment.from_file(\"Persian Singers\\separated_songs\\Siavash_Ghomayshi\\Siavash_Ghomayshi_5/vocals.wav\")\n",
    "\n",
    "result = v1 + v2 + v3 + v4 + v5\n",
    "result.export(\"./data_singers/Siavash_Ghomayshi.wav\",format=\"wav\")"
   ]
  },
  {
   "cell_type": "code",
   "execution_count": null,
   "metadata": {},
   "outputs": [
    {
     "data": {
      "text/plain": [
       "<_io.BufferedRandom name='./data_singers/Yas/Yas.wav'>"
      ]
     },
     "execution_count": 8,
     "metadata": {},
     "output_type": "execute_result"
    }
   ],
   "source": [
    "v1 = AudioSegment.from_file(\"Persian Singers\\separated_songs\\Yas\\Yas_1/vocals.wav\")\n",
    "v2 = AudioSegment.from_file(\"Persian Singers\\separated_songs\\Yas\\Yas_1/vocals.wav\")\n",
    "v3 = AudioSegment.from_file(\"Persian Singers\\separated_songs\\Yas\\Yas_1/vocals.wav\")\n",
    "v4 = AudioSegment.from_file(\"Persian Singers\\separated_songs\\Yas\\Yas_1/vocals.wav\")\n",
    "v5 = AudioSegment.from_file(\"Persian Singers\\separated_songs\\Yas\\Yas_1/vocals.wav\")\n",
    "\n",
    "result = v1 + v2 + v3 + v4 + v5\n",
    "result.export(\"./data_singers/Yas.wav\",format=\"wav\")"
   ]
  }
 ],
 "metadata": {
  "kernelspec": {
   "display_name": "Python 3",
   "language": "python",
   "name": "python3"
  },
  "language_info": {
   "codemirror_mode": {
    "name": "ipython",
    "version": 3
   },
   "file_extension": ".py",
   "mimetype": "text/x-python",
   "name": "python",
   "nbconvert_exporter": "python",
   "pygments_lexer": "ipython3",
   "version": "3.11.4"
  }
 },
 "nbformat": 4,
 "nbformat_minor": 2
}
