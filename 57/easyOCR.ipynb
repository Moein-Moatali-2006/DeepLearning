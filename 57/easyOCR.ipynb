{
  "nbformat": 4,
  "nbformat_minor": 0,
  "metadata": {
    "colab": {
      "provenance": [],
      "gpuType": "T4"
    },
    "kernelspec": {
      "name": "python3",
      "display_name": "Python 3"
    },
    "language_info": {
      "name": "python"
    },
    "accelerator": "GPU"
  },
  "cells": [
    {
      "cell_type": "code",
      "execution_count": null,
      "metadata": {
        "id": "Xmu043Yb7SF4"
      },
      "outputs": [],
      "source": [
        "!pip install easyocr"
      ]
    },
    {
      "cell_type": "code",
      "source": [
        "import easyocr\n",
        "reader = easyocr.Reader(['fa'])\n",
        "result = reader.readtext('/content/irani.jpg')"
      ],
      "metadata": {
        "colab": {
          "base_uri": "https://localhost:8080/"
        },
        "id": "GlSc3fmV7uRF",
        "outputId": "25f4c68f-9785-461f-c1e7-7c7bbf194df1"
      },
      "execution_count": 7,
      "outputs": [
        {
          "output_type": "stream",
          "name": "stderr",
          "text": [
            "WARNING:easyocr.easyocr:Downloading recognition model, please wait. This may take several minutes depending upon your network connection.\n"
          ]
        },
        {
          "output_type": "stream",
          "name": "stdout",
          "text": [
            "Progress: |██████████████████████████████████████████████████| 100.0% Complete"
          ]
        }
      ]
    },
    {
      "cell_type": "code",
      "source": [
        "for item in result:\n",
        "    if item[2] > 0.5:\n",
        "      print(item)"
      ],
      "metadata": {
        "colab": {
          "base_uri": "https://localhost:8080/"
        },
        "id": "Ex3WNIkG8MkH",
        "outputId": "8fa0196e-e85e-426b-a06c-1fb0ab569a16"
      },
      "execution_count": 8,
      "outputs": [
        {
          "output_type": "stream",
          "name": "stdout",
          "text": [
            "[[[np.int32(61), np.int32(11)], [571, np.int32(11)], [571, np.int32(175)], [np.int32(61), np.int32(175)]], '٦٥ 9 ٥٤٣٣٢', np.float64(0.9001626245823394)]\n"
          ]
        }
      ]
    }
  ]
}