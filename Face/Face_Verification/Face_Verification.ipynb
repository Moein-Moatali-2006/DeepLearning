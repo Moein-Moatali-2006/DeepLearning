{
  "cells": [
    {
      "cell_type": "code",
      "execution_count": 6,
      "metadata": {
        "id": "FmKJ2ClZmOhb"
      },
      "outputs": [],
      "source": [
        "import cv2\n",
        "import numpy as np\n",
        "from insightface.app import FaceAnalysis"
      ]
    },
    {
      "cell_type": "code",
      "execution_count": null,
      "metadata": {
        "id": "XFsRqG9bnNAf"
      },
      "outputs": [],
      "source": [
        "app = FaceAnalysis(providers=['CUDAExecutionProvider', 'CPUExecutionProvider'])\n",
        "app.prepare(ctx_id=0, det_size=(640, 640))"
      ]
    },
    {
      "cell_type": "code",
      "execution_count": null,
      "metadata": {
        "id": "mGxnN4bcorij"
      },
      "outputs": [],
      "source": [
        "# image_path 1\n",
        "image_1 = cv2.imread(\"path\")\n",
        "image_1 = cv2.cvtColor(image_1, cv2.COLOR_BGR2RGB)\n",
        "# image_path 2\n",
        "image_2 = cv2.imread(\"path\")\n",
        "image_2 = cv2.cvtColor(image_2, cv2.COLOR_BGR2RGB)\n",
        "\n",
        "embedding_1 = app.get(image_1)[0][\"embedding\"]\n",
        "embedding_2 = app.get(image_2)[0][\"embedding\"]"
      ]
    },
    {
      "cell_type": "code",
      "execution_count": null,
      "metadata": {
        "colab": {
          "base_uri": "https://localhost:8080/"
        },
        "id": "1XzI1Px6qT9a",
        "outputId": "ea78cdfe-7d3e-438d-8c4f-ffa67d916529"
      },
      "outputs": [
        {
          "name": "stdout",
          "output_type": "stream",
          "text": [
            "20.633606\n"
          ]
        }
      ],
      "source": [
        "result = np.sqrt(np.sum((embedding_1 - embedding_2)**2))\n",
        "print(result)"
      ]
    },
    {
      "cell_type": "code",
      "execution_count": 19,
      "metadata": {
        "colab": {
          "base_uri": "https://localhost:8080/"
        },
        "id": "KOYefzkeq7Ey",
        "outputId": "0e6553b1-cc81-499c-af72-fac566ecddbe"
      },
      "outputs": [
        {
          "name": "stdout",
          "output_type": "stream",
          "text": [
            "Same Person\n"
          ]
        }
      ],
      "source": [
        "threshold = 22\n",
        "\n",
        "if result < threshold:\n",
        "    print(\"Same Person\")\n",
        "else:\n",
        "    print(\"Different Persons\")"
      ]
    }
  ],
  "metadata": {
    "accelerator": "GPU",
    "colab": {
      "gpuType": "T4",
      "provenance": []
    },
    "kernelspec": {
      "display_name": "Python 3",
      "name": "python3"
    },
    "language_info": {
      "name": "python"
    }
  },
  "nbformat": 4,
  "nbformat_minor": 0
}
