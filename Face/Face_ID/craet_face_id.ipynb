{
  "nbformat": 4,
  "nbformat_minor": 0,
  "metadata": {
    "colab": {
      "provenance": []
    },
    "kernelspec": {
      "name": "python3",
      "display_name": "Python 3"
    },
    "language_info": {
      "name": "python"
    }
  },
  "cells": [
    {
      "cell_type": "code",
      "execution_count": null,
      "metadata": {
        "id": "tVBwWgxxkkzN"
      },
      "outputs": [],
      "source": [
        "! pip install -q insightface onnxruntime"
      ]
    },
    {
      "cell_type": "code",
      "source": [
        "import os\n",
        "import cv2\n",
        "import numpy as np\n",
        "from insightface.app import FaceAnalysis"
      ],
      "metadata": {
        "id": "v3A4BBwzk4DP"
      },
      "execution_count": 2,
      "outputs": []
    },
    {
      "cell_type": "code",
      "source": [
        "app = FaceAnalysis(name=\"buffalo_s\", providers=['CUDAExecutionProvider', 'CPUExecutionProvider'])\n",
        "app.prepare(ctx_id=0, det_size=(640, 640))"
      ],
      "metadata": {
        "id": "qyrTnDoMlQED"
      },
      "execution_count": null,
      "outputs": []
    },
    {
      "cell_type": "code",
      "source": [
        "face_bank_path = \"/content/drive/MyDrive/images\"\n",
        "\n",
        "face_bank = []\n",
        "for i in os.listdir(face_bank_path):\n",
        "    cpath = os.path.join(face_bank_path,i)\n",
        "    for x in os.listdir(cpath):\n",
        "        image_path = os.path.join(cpath,x)\n",
        "        image = cv2.imread(image_path)\n",
        "        image = cv2.cvtColor(image, cv2.COLOR_BGR2RGB)\n",
        "        result = app.get(image)\n",
        "        embedding = result[0][\"embedding\"]\n",
        "\n",
        "        if len(result) > 1:\n",
        "            print(\"warning...!\")\n",
        "            print(image_path)\n",
        "            continue\n",
        "\n",
        "        image_dict = {\"name\":i, \"embedding\":embedding}\n",
        "        face_bank.append(image_dict)\n",
        "np.save(\"face_id.npy\",face_bank)\n",
        "print(\"finish.\")"
      ],
      "metadata": {
        "colab": {
          "base_uri": "https://localhost:8080/"
        },
        "id": "6vMuW4sxlTp6",
        "outputId": "b21cfeab-36f9-439b-f9e6-5b00fb455044"
      },
      "execution_count": 4,
      "outputs": [
        {
          "output_type": "stream",
          "name": "stdout",
          "text": [
            "finish.\n"
          ]
        }
      ]
    }
  ]
}