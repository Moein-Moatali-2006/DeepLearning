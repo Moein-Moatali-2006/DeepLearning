{
  "cells": [
    {
      "cell_type": "code",
      "execution_count": 19,
      "metadata": {
        "id": "WTq-EPZ7eT1M"
      },
      "outputs": [],
      "source": [
        "! pip install -q insightface onnxruntime"
      ]
    },
    {
      "cell_type": "code",
      "execution_count": null,
      "metadata": {
        "id": "YAX8o39Rf3qi"
      },
      "outputs": [],
      "source": [
        "import os\n",
        "import cv2\n",
        "import numpy as np\n",
        "from insightface.app import FaceAnalysis"
      ]
    },
    {
      "cell_type": "code",
      "execution_count": null,
      "metadata": {
        "id": "YGhZEvQDm8xT"
      },
      "outputs": [],
      "source": [
        "app = FaceAnalysis(name=\"buffalo_l\", providers=['CUDAExecutionProvider', 'CPUExecutionProvider'])\n",
        "app.prepare(ctx_id=0, det_size=(640, 640))"
      ]
    },
    {
      "cell_type": "code",
      "execution_count": 22,
      "metadata": {
        "colab": {
          "base_uri": "https://localhost:8080/"
        },
        "id": "HkX01NU3gjXj",
        "outputId": "f35f13a3-5711-4980-ea41-67b2421576a7"
      },
      "outputs": [
        {
          "name": "stdout",
          "output_type": "stream",
          "text": [
            "finish.\n"
          ]
        }
      ],
      "source": [
        "face_bank_path = \"/content/drive/MyDrive/face_bank/\"\n",
        "\n",
        "face_bank = []\n",
        "for i in os.listdir(face_bank_path):\n",
        "    cpath = os.path.join(face_bank_path,i)\n",
        "    for x in os.listdir(cpath):\n",
        "        image_path = os.path.join(cpath,x)\n",
        "        image = cv2.imread(image_path)\n",
        "        image = cv2.cvtColor(image, cv2.COLOR_BGR2RGB)\n",
        "        result = app.get(image)\n",
        "        embedding = result[0][\"embedding\"]\n",
        "\n",
        "        if len(result) > 1:\n",
        "            print(\"warning...!\")\n",
        "            print(image_path)\n",
        "            continue\n",
        "\n",
        "        image_dict = {\"name\":i, \"embedding\":embedding}\n",
        "        face_bank.append(image_dict)\n",
        "np.save(\"face_bank.npy\",face_bank)\n",
        "print(\"finish.\")"
      ]
    }
  ],
  "metadata": {
    "accelerator": "GPU",
    "colab": {
      "gpuType": "T4",
      "provenance": []
    },
    "kernelspec": {
      "display_name": "Python 3",
      "name": "python3"
    },
    "language_info": {
      "codemirror_mode": {
        "name": "ipython",
        "version": 3
      },
      "file_extension": ".py",
      "mimetype": "text/x-python",
      "name": "python",
      "nbconvert_exporter": "python",
      "pygments_lexer": "ipython3",
      "version": "3.11.4"
    }
  },
  "nbformat": 4,
  "nbformat_minor": 0
}
