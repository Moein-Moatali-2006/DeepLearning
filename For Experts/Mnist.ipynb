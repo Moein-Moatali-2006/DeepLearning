{
  "nbformat": 4,
  "nbformat_minor": 0,
  "metadata": {
    "colab": {
      "provenance": [],
      "gpuType": "T4"
    },
    "kernelspec": {
      "name": "python3",
      "display_name": "Python 3"
    },
    "language_info": {
      "name": "python"
    },
    "accelerator": "GPU"
  },
  "cells": [
    {
      "cell_type": "code",
      "execution_count": 7,
      "metadata": {
        "id": "lOw2yMQvSoik"
      },
      "outputs": [],
      "source": [
        "import tensorflow as tf\n",
        "from tensorflow.keras.layers import Conv2D,Flatten,Dense"
      ]
    },
    {
      "cell_type": "code",
      "source": [
        "mnist = tf.keras.datasets.mnist\n",
        "(X_train , Y_train) , (X_test , Y_test) = mnist.load_data()\n",
        "X_train = X_train / 255.0\n",
        "X_test = X_test / 255.0\n",
        "X_train = X_train[..., tf.newaxis]\n",
        "X_test = X_test[..., tf.newaxis]\n",
        "print(X_train[0].shape)"
      ],
      "metadata": {
        "id": "4CsUXwqmTBrX",
        "colab": {
          "base_uri": "https://localhost:8080/"
        },
        "outputId": "09841d1a-e7ca-4913-9f33-11dd0182ebbc"
      },
      "execution_count": 8,
      "outputs": [
        {
          "output_type": "stream",
          "name": "stdout",
          "text": [
            "(28, 28, 1)\n"
          ]
        }
      ]
    },
    {
      "cell_type": "code",
      "source": [
        "train_dataset = tf.data.Dataset.from_tensor_slices((X_train, Y_train)).shuffle(1000).batch(32).prefetch(tf.data.AUTOTUNE)\n",
        "test_dataset = tf.data.Dataset.from_tensor_slices((X_test, Y_test)).batch(32).prefetch(tf.data.AUTOTUNE)"
      ],
      "metadata": {
        "id": "D-Y4l9zAWwUV"
      },
      "execution_count": 9,
      "outputs": []
    },
    {
      "cell_type": "code",
      "source": [
        "class MyMnistModel(tf.keras.Model):\n",
        "    def __init__(self):\n",
        "        super().__init__()\n",
        "        self.conv1 = Conv2D(32, 3, activation=\"relu\")\n",
        "        self.flatten = Flatten()\n",
        "        self.d1 = Dense(128, activation=\"relu\")\n",
        "        self.d2 = Dense(32, activation=\"relu\")\n",
        "        self.d3 = Dense(10)\n",
        "\n",
        "    def call(self, x):\n",
        "        x = self.conv1(x)\n",
        "        x = self.flatten(x)\n",
        "        x = self.d1(x)\n",
        "        x = self.d2(x)\n",
        "        x = self.d3(x)\n",
        "        return x\n",
        "model = MyMnistModel()"
      ],
      "metadata": {
        "id": "nANJShcgXr3K"
      },
      "execution_count": 10,
      "outputs": []
    },
    {
      "cell_type": "code",
      "source": [
        "loss_object = tf.keras.losses.SparseCategoricalCrossentropy(from_logits=True)\n",
        "optimizer = tf.keras.optimizers.Adam()"
      ],
      "metadata": {
        "id": "RdRhG2MsdH8o"
      },
      "execution_count": 11,
      "outputs": []
    },
    {
      "cell_type": "code",
      "source": [
        "train_loss = tf.keras.metrics.Mean(name='train_loss')\n",
        "train_accuracy = tf.keras.metrics.SparseCategoricalAccuracy(name='train_accuracy')\n",
        "test_loss = tf.keras.metrics.Mean(name='test_loss')\n",
        "test_accuracy = tf.keras.metrics.SparseCategoricalAccuracy(name='test_accuracy')"
      ],
      "metadata": {
        "id": "edDELqZgfpvP"
      },
      "execution_count": 12,
      "outputs": []
    },
    {
      "cell_type": "code",
      "source": [
        "@tf.function\n",
        "def train_step(images, labels):\n",
        "  with tf.GradientTape() as tape:\n",
        "    predictions = model(images, training=True)\n",
        "    loss = loss_object(labels, predictions)\n",
        "  gradients = tape.gradient(loss, model.trainable_variables)\n",
        "  optimizer.apply_gradients(zip(gradients, model.trainable_variables))\n",
        "\n",
        "  train_loss(loss)\n",
        "  train_accuracy(labels, predictions)\n",
        "\n",
        "@tf.function\n",
        "def test_step(images, labels):\n",
        "  predictions = model(images, training=False)\n",
        "  t_loss = loss_object(labels, predictions)\n",
        "\n",
        "  test_loss(t_loss)\n",
        "  test_accuracy(labels, predictions)"
      ],
      "metadata": {
        "id": "xUqb2HlWeO4p"
      },
      "execution_count": 13,
      "outputs": []
    },
    {
      "cell_type": "code",
      "source": [
        "EPOCHS = 6\n",
        "\n",
        "for epoch in range(EPOCHS):\n",
        "    train_loss.reset_state()\n",
        "    train_accuracy.reset_state()\n",
        "    test_loss.reset_state()\n",
        "    test_accuracy.reset_state()\n",
        "\n",
        "    for images, labels in train_dataset:\n",
        "      train_step(images, labels)\n",
        "\n",
        "    for test_images, test_labels in test_dataset:\n",
        "      test_step(test_images, test_labels)\n",
        "\n",
        "    print(\n",
        "      f'Epoch {epoch + 1}, '\n",
        "      f'Loss: {train_loss.result()}, '\n",
        "      f'Accuracy: {train_accuracy.result()}, '\n",
        "      f'Test Loss: {test_loss.result()}, '\n",
        "      f'Test Accuracy: {test_accuracy.result()}'\n",
        "    )"
      ],
      "metadata": {
        "colab": {
          "base_uri": "https://localhost:8080/"
        },
        "id": "7_PU8fm8fYbp",
        "outputId": "f6a345de-afdb-411d-9da5-f003579b5953"
      },
      "execution_count": 15,
      "outputs": [
        {
          "output_type": "stream",
          "name": "stdout",
          "text": [
            "Epoch 1, Loss: 0.01, Accuracy: 0.9981499910354614, Test Loss: 0.08622753620147705, Test Accuracy: 0.984499990940094\n",
            "Epoch 2, Loss: 0.00, Accuracy: 0.9984666705131531, Test Loss: 0.09109530597925186, Test Accuracy: 0.984000027179718\n",
            "Epoch 3, Loss: 0.00, Accuracy: 0.9987333416938782, Test Loss: 0.08496914058923721, Test Accuracy: 0.9853000044822693\n",
            "Epoch 4, Loss: 0.00, Accuracy: 0.9986333250999451, Test Loss: 0.09892162680625916, Test Accuracy: 0.9818000197410583\n",
            "Epoch 5, Loss: 0.01, Accuracy: 0.998283326625824, Test Loss: 0.10027451813220978, Test Accuracy: 0.9835000038146973\n",
            "Epoch 6, Loss: 0.00, Accuracy: 0.9991666674613953, Test Loss: 0.10565908253192902, Test Accuracy: 0.9825999736785889\n"
          ]
        }
      ]
    }
  ]
}